{
 "cells": [
  {
   "cell_type": "code",
   "execution_count": 12,
   "metadata": {},
   "outputs": [],
   "source": [
    "import pandas as pd\n",
    "import numpy as np\n",
    "import matplotlib.pyplot as plt\n",
    "import seaborn as sns"
   ]
  },
  {
   "cell_type": "code",
   "execution_count": 171,
   "metadata": {},
   "outputs": [],
   "source": [
    "df=pd.read_csv('data/train.csv')\n",
    "network=pd.read_csv('data/network.csv')"
   ]
  },
  {
   "cell_type": "code",
   "execution_count": 6,
   "metadata": {},
   "outputs": [],
   "source": [
    "total_station=list(set(list(network.station1.value_counts().index)+list(network.station2.value_counts().index)))\n",
    "index=[x for x in np.arange(len(total_station))]\n",
    "dicts=dict(zip(total_station,index))"
   ]
  },
  {
   "cell_type": "code",
   "execution_count": 10,
   "metadata": {},
   "outputs": [],
   "source": [
    "adj_maxtrix=np.zeros((len(dicts),len(dicts)))\n",
    "for name,rows in network.iterrows():\n",
    "    i,j=dicts[rows[1]],dicts[rows[2]]\n",
    "    adj_maxtrix[i,j]+=1"
   ]
  },
  {
   "cell_type": "code",
   "execution_count": 13,
   "metadata": {
    "scrolled": true
   },
   "outputs": [
    {
     "data": {
      "text/plain": [
       "<AxesSubplot:>"
      ]
     },
     "execution_count": 13,
     "metadata": {},
     "output_type": "execute_result"
    },
    {
     "data": {
      "image/png": "[encoded data removed]",
      "text/plain": [
       "<Figure size 432x288 with 2 Axes>"
      ]
     },
     "metadata": {
      "needs_background": "light"
     },
     "output_type": "display_data"
    }
   ],
   "source": [
    "sns.heatmap(adj_maxtrix)"
   ]
  },
  {
   "cell_type": "code",
   "execution_count": 166,
   "metadata": {},
   "outputs": [],
   "source": [
    "stations_pair={}\n",
    "for name,rows in network.iterrows():\n",
    "    if rows['station1']!='vpGT' and rows['station1']!='rKwb':\n",
    "        if rows['station1'] in stations_pair:\n",
    "            stations_pair[rows['station1']].append(rows['station2'])\n",
    "        else:\n",
    "            stations_pair[rows['station1']]=[rows['station2']]\n",
    "    if rows['station2']!='vpGT' and rows['station2']!='rKwb':\n",
    "        if rows['station2'] in stations_pair:\n",
    "            stations_pair[rows['station2']].append(rows['station1'])\n",
    "        else:\n",
    "            stations_pair[rows['station2']]=[rows['station1']]   \n",
    "#del stations_pair['rKwb'],stations_pair['vpGT']"
   ]
  },
  {
   "cell_type": "code",
   "execution_count": 167,
   "metadata": {},
   "outputs": [
    {
     "data": {
      "text/plain": [
       "{'Femc': ['vpGT', 'dJlm'],\n",
       " 'dJlm': ['Femc', 'jebQ'],\n",
       " 'jebQ': ['dJlm', 'PsTo'],\n",
       " 'PsTo': ['jebQ', 'mxQg'],\n",
       " 'mxQg': ['PsTo', 'CTnl'],\n",
       " 'CTnl': ['mxQg', 'AFTQ'],\n",
       " 'AFTQ': ['CTnl', 'aCxM'],\n",
       " 'aCxM': ['AFTQ', 'wbkB'],\n",
       " 'wbkB': ['aCxM', 'tncu'],\n",
       " 'tncu': ['wbkB', 'ufGe'],\n",
       " 'ufGe': ['tncu', 'stJE'],\n",
       " 'stJE': ['ufGe', 'jPbe'],\n",
       " 'jPbe': ['stJE', 'tPfo'],\n",
       " 'tPfo': ['jPbe', 'RUhy'],\n",
       " 'RUhy': ['tPfo', 'APgF'],\n",
       " 'APgF': ['RUhy', 'zUdG'],\n",
       " 'zUdG': ['APgF', 'fpRv'],\n",
       " 'fpRv': ['zUdG', 'QCTc'],\n",
       " 'QCTc': ['fpRv', 'KsBm'],\n",
       " 'KsBm': ['QCTc', 'NqOG', 'TlTg', 'ReJL'],\n",
       " 'NqOG': ['KsBm', 'TlTg', 'qzrJ', 'iHon'],\n",
       " 'TlTg': ['NqOG', 'yuIQ', 'KsBm'],\n",
       " 'qzrJ': ['NqOG', 'HOLt'],\n",
       " 'HOLt': ['qzrJ', 'OJng'],\n",
       " 'OJng': ['HOLt', 'iHon'],\n",
       " 'iHon': ['OJng', 'GLXs', 'NqOG', 'RDLf'],\n",
       " 'GLXs': ['iHon', 'SvNu'],\n",
       " 'SvNu': ['GLXs', 'cRgf'],\n",
       " 'cRgf': ['SvNu', 'RDLf', 'djPS'],\n",
       " 'RDLf': ['cRgf', 'ejfb', 'Gftx', 'iHon', 'efzW'],\n",
       " 'ejfb': ['RDLf', 'PcxI'],\n",
       " 'PcxI': ['ejfb', 'efzW'],\n",
       " 'efzW': ['PcxI', 'jhlV', 'RDLf'],\n",
       " 'jhlV': ['efzW', 'VNyR'],\n",
       " 'VNyR': ['jhlV', 'LMww'],\n",
       " 'LMww': ['VNyR', 'coZB'],\n",
       " 'coZB': ['LMww', 'Rlfq'],\n",
       " 'Rlfq': ['coZB', 'daXW'],\n",
       " 'daXW': ['Rlfq', 'trdb'],\n",
       " 'trdb': ['daXW', 'tCey'],\n",
       " 'qzWm': ['UUlH'],\n",
       " 'UUlH': ['qzWm', 'lUUx'],\n",
       " 'lUUx': ['UUlH', 'rGbD'],\n",
       " 'rGbD': ['lUUx', 'OpgJ'],\n",
       " 'OpgJ': ['rGbD', 'FPFv'],\n",
       " 'FPFv': ['OpgJ', 'mjPK'],\n",
       " 'mjPK': ['FPFv', 'uQdT'],\n",
       " 'uQdT': ['mjPK', 'zNdV'],\n",
       " 'zNdV': ['uQdT', 'KReX'],\n",
       " 'KReX': ['zNdV', 'aVeu'],\n",
       " 'aVeu': ['KReX', 'oNkU'],\n",
       " 'oNkU': ['aVeu', 'vcLy'],\n",
       " 'vcLy': ['oNkU', 'cvCM'],\n",
       " 'cvCM': ['vcLy', 'EoNR'],\n",
       " 'EoNR': ['cvCM', 'qdzg'],\n",
       " 'qdzg': ['EoNR', 'lCym'],\n",
       " 'lCym': ['qdzg', 'DTSj'],\n",
       " 'DTSj': ['lCym', 'hwjA'],\n",
       " 'hwjA': ['DTSj', 'PYtN', 'SAOS'],\n",
       " 'PYtN': ['hwjA', 'KpNq'],\n",
       " 'KpNq': ['PYtN', 'ZcpD'],\n",
       " 'ZcpD': ['KpNq', 'QkqQ'],\n",
       " 'QkqQ': ['ZcpD', 'TaOj'],\n",
       " 'TaOj': ['QkqQ', 'yuIQ'],\n",
       " 'yuIQ': ['TaOj', 'TlTg'],\n",
       " 'ReJL': ['KsBm', 'yUYG'],\n",
       " 'yUYG': ['ReJL', 'CbCQ'],\n",
       " 'CbCQ': ['yUYG', 'aMqH'],\n",
       " 'aMqH': ['CbCQ', 'bgbz'],\n",
       " 'bgbz': ['aMqH', 'LKUe'],\n",
       " 'LKUe': ['bgbz', 'LglK', 'fmwC'],\n",
       " 'LglK': ['LKUe', 'cbJh'],\n",
       " 'cbJh': ['LglK', 'daBI'],\n",
       " 'daBI': ['cbJh', 'MQfL'],\n",
       " 'MQfL': ['daBI', 'jdBM'],\n",
       " 'jdBM': ['MQfL', 'xKSN'],\n",
       " 'xKSN': ['jdBM', 'qCwi'],\n",
       " 'qCwi': ['xKSN', 'sLAH'],\n",
       " 'sLAH': ['qCwi', 'ugLy'],\n",
       " 'ugLy': ['sLAH', 'GsES'],\n",
       " 'GsES': ['ugLy', 'ntaA'],\n",
       " 'ntaA': ['GsES', 'Zlsb'],\n",
       " 'Zlsb': ['ntaA'],\n",
       " 'SAOS': ['thmK', 'hwjA'],\n",
       " 'thmK': ['SAOS', 'fXMY'],\n",
       " 'fXMY': ['thmK', 'vzmD'],\n",
       " 'vzmD': ['fXMY', 'fRXM'],\n",
       " 'fRXM': ['vzmD', 'djPS'],\n",
       " 'djPS': ['fRXM', 'cRgf'],\n",
       " 'Gftx': ['RDLf', 'daSA'],\n",
       " 'daSA': ['Gftx', 'tNrH'],\n",
       " 'tNrH': ['daSA', 'mKyE'],\n",
       " 'mKyE': ['tNrH', 'IXNJ'],\n",
       " 'IXNJ': ['mKyE', 'NLJh'],\n",
       " 'NLJh': ['IXNJ', 'fmwC'],\n",
       " 'fmwC': ['NLJh', 'LKUe'],\n",
       " 'tCey': ['trdb', 'GgOD'],\n",
       " 'GgOD': ['tCey', 'Hzeg'],\n",
       " 'Hzeg': ['GgOD', 'fZfY'],\n",
       " 'fZfY': ['Hzeg', 'UMoa'],\n",
       " 'UMoa': ['fZfY', 'GxuL', 'BCRD'],\n",
       " 'GxuL': ['UMoa'],\n",
       " 'BCRD': ['UMoa', 'AVjc'],\n",
       " 'AVjc': ['BCRD', 'uYlv'],\n",
       " 'uYlv': ['AVjc', 'wwYD'],\n",
       " 'wwYD': ['uYlv', 'mkGW'],\n",
       " 'mkGW': ['wwYD', 'rKwb']}"
      ]
     },
     "execution_count": 167,
     "metadata": {},
     "output_type": "execute_result"
    }
   ],
   "source": [
    "all_lines=[]\n",
    "for begin_station,line_name in zip(begin_stations,['A','B','C','D']):\n",
    "    line=[]\n",
    "    line_station=lines[line_name].tolist()\n",
    "    while len(line_station)!=0:\n",
    "        print(line_station)\n",
    "        print(begin_station)\n",
    "        line_station.remove(begin_station)\n",
    "        line.append(begin_station)\n",
    "        df=network[(network[\"station1\"]==begin_station)|(network[\"station2\"]==begin_station)]\n",
    "        a=pd.DataFrame(pd.concat([df[\"station1\"],df[\"station2\"]])).values.tolist()\n",
    "        a=[x[0] for x in a]\n",
    "        a.remove(begin_station)\n",
    "        for x in a:\n",
    "            if x in line_station:\n",
    "                begin_station=x\n",
    "                break\n",
    "    all_lines.append(line)"
   ]
  },
  {
   "cell_type": "code",
   "execution_count": 168,
   "metadata": {},
   "outputs": [
    {
     "data": {
      "text/plain": [
       "107"
      ]
     },
     "execution_count": 168,
     "metadata": {},
     "output_type": "execute_result"
    }
   ],
   "source": [
    "len(stations_pair)"
   ]
  },
  {
   "cell_type": "code",
   "execution_count": 84,
   "metadata": {},
   "outputs": [],
   "source": [
    "begin_station=list(pd.DataFrame(pd.concat([network[\"station1\"],network[\"station2\"]])).value_counts()[-5:].index)\n",
    "begin_station=[x[0] for x in begin_station]\n",
    "begin_station=begin_station[1:]"
   ]
  },
  {
   "cell_type": "code",
   "execution_count": 175,
   "metadata": {},
   "outputs": [],
   "source": [
    "lines={}\n",
    "i=0\n",
    "for line_name in ['A','B','C','D']:\n",
    "    a=df[(df[\"lineName\"]==line_name)][\"stopStation\"].unique().tolist()\n",
    "    lines[line_name]=a\n",
    "    i+=1"
   ]
  },
  {
   "cell_type": "code",
   "execution_count": 72,
   "metadata": {},
   "outputs": [],
   "source": [
    "df=pd.read_csv('data/test.csv')"
   ]
  },
  {
   "cell_type": "code",
   "execution_count": 78,
   "metadata": {},
   "outputs": [
    {
     "data": {
      "text/html": [
       "<div>\n",
       "<style scoped>\n",
       "    .dataframe tbody tr th:only-of-type {\n",
       "        vertical-align: middle;\n",
       "    }\n",
       "\n",
       "    .dataframe tbody tr th {\n",
       "        vertical-align: top;\n",
       "    }\n",
       "\n",
       "    .dataframe thead th {\n",
       "        text-align: right;\n",
       "    }\n",
       "</style>\n",
       "<table border=\"1\" class=\"dataframe\">\n",
       "  <thead>\n",
       "    <tr style=\"text-align: right;\">\n",
       "      <th></th>\n",
       "      <th>id</th>\n",
       "      <th>date</th>\n",
       "      <th>lineName</th>\n",
       "      <th>directionCode</th>\n",
       "      <th>trainNo</th>\n",
       "      <th>stopStation</th>\n",
       "      <th>planArrival</th>\n",
       "      <th>delayTime</th>\n",
       "      <th>target</th>\n",
       "    </tr>\n",
       "  </thead>\n",
       "  <tbody>\n",
       "    <tr>\n",
       "      <th>38</th>\n",
       "      <td>1488923</td>\n",
       "      <td>20191201</td>\n",
       "      <td>A</td>\n",
       "      <td>1</td>\n",
       "      <td>CishvD</td>\n",
       "      <td>mxQg</td>\n",
       "      <td>18:04</td>\n",
       "      <td>NaN</td>\n",
       "      <td>0</td>\n",
       "    </tr>\n",
       "    <tr>\n",
       "      <th>39</th>\n",
       "      <td>1488924</td>\n",
       "      <td>20191201</td>\n",
       "      <td>A</td>\n",
       "      <td>1</td>\n",
       "      <td>CishvD</td>\n",
       "      <td>PsTo</td>\n",
       "      <td>18:07</td>\n",
       "      <td>NaN</td>\n",
       "      <td>0</td>\n",
       "    </tr>\n",
       "    <tr>\n",
       "      <th>40</th>\n",
       "      <td>1488925</td>\n",
       "      <td>20191201</td>\n",
       "      <td>A</td>\n",
       "      <td>1</td>\n",
       "      <td>CishvD</td>\n",
       "      <td>jebQ</td>\n",
       "      <td>18:09</td>\n",
       "      <td>NaN</td>\n",
       "      <td>0</td>\n",
       "    </tr>\n",
       "    <tr>\n",
       "      <th>41</th>\n",
       "      <td>1488926</td>\n",
       "      <td>20191201</td>\n",
       "      <td>A</td>\n",
       "      <td>1</td>\n",
       "      <td>CishvD</td>\n",
       "      <td>dJlm</td>\n",
       "      <td>18:12</td>\n",
       "      <td>NaN</td>\n",
       "      <td>0</td>\n",
       "    </tr>\n",
       "    <tr>\n",
       "      <th>42</th>\n",
       "      <td>1488927</td>\n",
       "      <td>20191201</td>\n",
       "      <td>A</td>\n",
       "      <td>1</td>\n",
       "      <td>CishvD</td>\n",
       "      <td>Femc</td>\n",
       "      <td>18:14</td>\n",
       "      <td>NaN</td>\n",
       "      <td>0</td>\n",
       "    </tr>\n",
       "    <tr>\n",
       "      <th>...</th>\n",
       "      <td>...</td>\n",
       "      <td>...</td>\n",
       "      <td>...</td>\n",
       "      <td>...</td>\n",
       "      <td>...</td>\n",
       "      <td>...</td>\n",
       "      <td>...</td>\n",
       "      <td>...</td>\n",
       "      <td>...</td>\n",
       "    </tr>\n",
       "    <tr>\n",
       "      <th>1259189</th>\n",
       "      <td>2748074</td>\n",
       "      <td>20201021</td>\n",
       "      <td>D</td>\n",
       "      <td>2</td>\n",
       "      <td>yiLwMW</td>\n",
       "      <td>BCRD</td>\n",
       "      <td>19:19</td>\n",
       "      <td>NaN</td>\n",
       "      <td>0</td>\n",
       "    </tr>\n",
       "    <tr>\n",
       "      <th>1259190</th>\n",
       "      <td>2748075</td>\n",
       "      <td>20201021</td>\n",
       "      <td>D</td>\n",
       "      <td>2</td>\n",
       "      <td>yiLwMW</td>\n",
       "      <td>AVjc</td>\n",
       "      <td>19:23</td>\n",
       "      <td>NaN</td>\n",
       "      <td>0</td>\n",
       "    </tr>\n",
       "    <tr>\n",
       "      <th>1259191</th>\n",
       "      <td>2748076</td>\n",
       "      <td>20201021</td>\n",
       "      <td>D</td>\n",
       "      <td>2</td>\n",
       "      <td>yiLwMW</td>\n",
       "      <td>uYlv</td>\n",
       "      <td>19:26</td>\n",
       "      <td>NaN</td>\n",
       "      <td>0</td>\n",
       "    </tr>\n",
       "    <tr>\n",
       "      <th>1259192</th>\n",
       "      <td>2748077</td>\n",
       "      <td>20201021</td>\n",
       "      <td>D</td>\n",
       "      <td>2</td>\n",
       "      <td>yiLwMW</td>\n",
       "      <td>wwYD</td>\n",
       "      <td>19:31</td>\n",
       "      <td>NaN</td>\n",
       "      <td>0</td>\n",
       "    </tr>\n",
       "    <tr>\n",
       "      <th>1259193</th>\n",
       "      <td>2748078</td>\n",
       "      <td>20201021</td>\n",
       "      <td>D</td>\n",
       "      <td>2</td>\n",
       "      <td>yiLwMW</td>\n",
       "      <td>mkGW</td>\n",
       "      <td>19:33</td>\n",
       "      <td>NaN</td>\n",
       "      <td>0</td>\n",
       "    </tr>\n",
       "  </tbody>\n",
       "</table>\n",
       "<p>719204 rows × 9 columns</p>\n",
       "</div>"
      ],
      "text/plain": [
       "              id      date lineName  directionCode trainNo stopStation  \\\n",
       "38       1488923  20191201        A              1  CishvD        mxQg   \n",
       "39       1488924  20191201        A              1  CishvD        PsTo   \n",
       "40       1488925  20191201        A              1  CishvD        jebQ   \n",
       "41       1488926  20191201        A              1  CishvD        dJlm   \n",
       "42       1488927  20191201        A              1  CishvD        Femc   \n",
       "...          ...       ...      ...            ...     ...         ...   \n",
       "1259189  2748074  20201021        D              2  yiLwMW        BCRD   \n",
       "1259190  2748075  20201021        D              2  yiLwMW        AVjc   \n",
       "1259191  2748076  20201021        D              2  yiLwMW        uYlv   \n",
       "1259192  2748077  20201021        D              2  yiLwMW        wwYD   \n",
       "1259193  2748078  20201021        D              2  yiLwMW        mkGW   \n",
       "\n",
       "        planArrival  delayTime  target  \n",
       "38            18:04        NaN       0  \n",
       "39            18:07        NaN       0  \n",
       "40            18:09        NaN       0  \n",
       "41            18:12        NaN       0  \n",
       "42            18:14        NaN       0  \n",
       "...             ...        ...     ...  \n",
       "1259189       19:19        NaN       0  \n",
       "1259190       19:23        NaN       0  \n",
       "1259191       19:26        NaN       0  \n",
       "1259192       19:31        NaN       0  \n",
       "1259193       19:33        NaN       0  \n",
       "\n",
       "[719204 rows x 9 columns]"
      ]
     },
     "execution_count": 78,
     "metadata": {},
     "output_type": "execute_result"
    }
   ],
   "source": [
    "df[(np.isnan(df['delayTime']))&(df['target']==0)]"
   ]
  },
  {
   "cell_type": "code",
   "execution_count": 92,
   "metadata": {},
   "outputs": [
    {
     "ename": "KeyError",
     "evalue": "False",
     "output_type": "error",
     "traceback": [
      "\u001b[1;31m---------------------------------------------------------------------------\u001b[0m",
      "\u001b[1;31mKeyError\u001b[0m                                  Traceback (most recent call last)",
      "\u001b[1;32mF:\\ProgramData\\Anaconda3\\lib\\site-packages\\pandas\\core\\indexes\\base.py\u001b[0m in \u001b[0;36mget_loc\u001b[1;34m(self, key, method, tolerance)\u001b[0m\n\u001b[0;32m   2894\u001b[0m             \u001b[1;32mtry\u001b[0m\u001b[1;33m:\u001b[0m\u001b[1;33m\u001b[0m\u001b[1;33m\u001b[0m\u001b[0m\n\u001b[1;32m-> 2895\u001b[1;33m                 \u001b[1;32mreturn\u001b[0m \u001b[0mself\u001b[0m\u001b[1;33m.\u001b[0m\u001b[0m_engine\u001b[0m\u001b[1;33m.\u001b[0m\u001b[0mget_loc\u001b[0m\u001b[1;33m(\u001b[0m\u001b[0mcasted_key\u001b[0m\u001b[1;33m)\u001b[0m\u001b[1;33m\u001b[0m\u001b[1;33m\u001b[0m\u001b[0m\n\u001b[0m\u001b[0;32m   2896\u001b[0m             \u001b[1;32mexcept\u001b[0m \u001b[0mKeyError\u001b[0m \u001b[1;32mas\u001b[0m \u001b[0merr\u001b[0m\u001b[1;33m:\u001b[0m\u001b[1;33m\u001b[0m\u001b[1;33m\u001b[0m\u001b[0m\n",
      "\u001b[1;32mpandas\\_libs\\index.pyx\u001b[0m in \u001b[0;36mpandas._libs.index.IndexEngine.get_loc\u001b[1;34m()\u001b[0m\n",
      "\u001b[1;32mpandas\\_libs\\index.pyx\u001b[0m in \u001b[0;36mpandas._libs.index.IndexEngine.get_loc\u001b[1;34m()\u001b[0m\n",
      "\u001b[1;32mpandas\\_libs\\hashtable_class_helper.pxi\u001b[0m in \u001b[0;36mpandas._libs.hashtable.PyObjectHashTable.get_item\u001b[1;34m()\u001b[0m\n",
      "\u001b[1;32mpandas\\_libs\\hashtable_class_helper.pxi\u001b[0m in \u001b[0;36mpandas._libs.hashtable.PyObjectHashTable.get_item\u001b[1;34m()\u001b[0m\n",
      "\u001b[1;31mKeyError\u001b[0m: False",
      "\nThe above exception was the direct cause of the following exception:\n",
      "\u001b[1;31mKeyError\u001b[0m                                  Traceback (most recent call last)",
      "\u001b[1;32m<ipython-input-92-15487ec45c39>\u001b[0m in \u001b[0;36m<module>\u001b[1;34m\u001b[0m\n\u001b[1;32m----> 1\u001b[1;33m \u001b[0mnetwork\u001b[0m\u001b[1;33m[\u001b[0m\u001b[1;34m\"station1\"\u001b[0m\u001b[1;33m==\u001b[0m\u001b[0mbegin_station\u001b[0m\u001b[1;33m]\u001b[0m\u001b[1;33m&\u001b[0m\u001b[0mnetwork\u001b[0m\u001b[1;33m[\u001b[0m\u001b[1;34m\"station2\"\u001b[0m\u001b[1;33m==\u001b[0m\u001b[0mbegin_station\u001b[0m\u001b[1;33m]\u001b[0m\u001b[1;33m\u001b[0m\u001b[1;33m\u001b[0m\u001b[0m\n\u001b[0m",
      "\u001b[1;32mF:\\ProgramData\\Anaconda3\\lib\\site-packages\\pandas\\core\\frame.py\u001b[0m in \u001b[0;36m__getitem__\u001b[1;34m(self, key)\u001b[0m\n\u001b[0;32m   2904\u001b[0m             \u001b[1;32mif\u001b[0m \u001b[0mself\u001b[0m\u001b[1;33m.\u001b[0m\u001b[0mcolumns\u001b[0m\u001b[1;33m.\u001b[0m\u001b[0mnlevels\u001b[0m \u001b[1;33m>\u001b[0m \u001b[1;36m1\u001b[0m\u001b[1;33m:\u001b[0m\u001b[1;33m\u001b[0m\u001b[1;33m\u001b[0m\u001b[0m\n\u001b[0;32m   2905\u001b[0m                 \u001b[1;32mreturn\u001b[0m \u001b[0mself\u001b[0m\u001b[1;33m.\u001b[0m\u001b[0m_getitem_multilevel\u001b[0m\u001b[1;33m(\u001b[0m\u001b[0mkey\u001b[0m\u001b[1;33m)\u001b[0m\u001b[1;33m\u001b[0m\u001b[1;33m\u001b[0m\u001b[0m\n\u001b[1;32m-> 2906\u001b[1;33m             \u001b[0mindexer\u001b[0m \u001b[1;33m=\u001b[0m \u001b[0mself\u001b[0m\u001b[1;33m.\u001b[0m\u001b[0mcolumns\u001b[0m\u001b[1;33m.\u001b[0m\u001b[0mget_loc\u001b[0m\u001b[1;33m(\u001b[0m\u001b[0mkey\u001b[0m\u001b[1;33m)\u001b[0m\u001b[1;33m\u001b[0m\u001b[1;33m\u001b[0m\u001b[0m\n\u001b[0m\u001b[0;32m   2907\u001b[0m             \u001b[1;32mif\u001b[0m \u001b[0mis_integer\u001b[0m\u001b[1;33m(\u001b[0m\u001b[0mindexer\u001b[0m\u001b[1;33m)\u001b[0m\u001b[1;33m:\u001b[0m\u001b[1;33m\u001b[0m\u001b[1;33m\u001b[0m\u001b[0m\n\u001b[0;32m   2908\u001b[0m                 \u001b[0mindexer\u001b[0m \u001b[1;33m=\u001b[0m \u001b[1;33m[\u001b[0m\u001b[0mindexer\u001b[0m\u001b[1;33m]\u001b[0m\u001b[1;33m\u001b[0m\u001b[1;33m\u001b[0m\u001b[0m\n",
      "\u001b[1;32mF:\\ProgramData\\Anaconda3\\lib\\site-packages\\pandas\\core\\indexes\\base.py\u001b[0m in \u001b[0;36mget_loc\u001b[1;34m(self, key, method, tolerance)\u001b[0m\n\u001b[0;32m   2895\u001b[0m                 \u001b[1;32mreturn\u001b[0m \u001b[0mself\u001b[0m\u001b[1;33m.\u001b[0m\u001b[0m_engine\u001b[0m\u001b[1;33m.\u001b[0m\u001b[0mget_loc\u001b[0m\u001b[1;33m(\u001b[0m\u001b[0mcasted_key\u001b[0m\u001b[1;33m)\u001b[0m\u001b[1;33m\u001b[0m\u001b[1;33m\u001b[0m\u001b[0m\n\u001b[0;32m   2896\u001b[0m             \u001b[1;32mexcept\u001b[0m \u001b[0mKeyError\u001b[0m \u001b[1;32mas\u001b[0m \u001b[0merr\u001b[0m\u001b[1;33m:\u001b[0m\u001b[1;33m\u001b[0m\u001b[1;33m\u001b[0m\u001b[0m\n\u001b[1;32m-> 2897\u001b[1;33m                 \u001b[1;32mraise\u001b[0m \u001b[0mKeyError\u001b[0m\u001b[1;33m(\u001b[0m\u001b[0mkey\u001b[0m\u001b[1;33m)\u001b[0m \u001b[1;32mfrom\u001b[0m \u001b[0merr\u001b[0m\u001b[1;33m\u001b[0m\u001b[1;33m\u001b[0m\u001b[0m\n\u001b[0m\u001b[0;32m   2898\u001b[0m \u001b[1;33m\u001b[0m\u001b[0m\n\u001b[0;32m   2899\u001b[0m         \u001b[1;32mif\u001b[0m \u001b[0mtolerance\u001b[0m \u001b[1;32mis\u001b[0m \u001b[1;32mnot\u001b[0m \u001b[1;32mNone\u001b[0m\u001b[1;33m:\u001b[0m\u001b[1;33m\u001b[0m\u001b[1;33m\u001b[0m\u001b[0m\n",
      "\u001b[1;31mKeyError\u001b[0m: False"
     ]
    }
   ],
   "source": [
    "network[\"station1\"==begin_station]&network[\"station2\"==begin_station]"
   ]
  },
  {
   "cell_type": "code",
   "execution_count": null,
   "metadata": {},
   "outputs": [],
   "source": []
  }
 ],
 "metadata": {
  "kernelspec": {
   "display_name": "Python 3",
   "language": "python",
   "name": "python3"
  },
  "language_info": {
   "codemirror_mode": {
    "name": "ipython",
    "version": 3
   },
   "file_extension": ".py",
   "mimetype": "text/x-python",
   "name": "python",
   "nbconvert_exporter": "python",
   "pygments_lexer": "ipython3",
   "version": "3.7.6"
  }
 },
 "nbformat": 4,
 "nbformat_minor": 4
}
